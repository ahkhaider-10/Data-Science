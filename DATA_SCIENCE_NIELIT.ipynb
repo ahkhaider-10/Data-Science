{
  "cells": [
    {
      "cell_type": "markdown",
      "metadata": {
        "id": "view-in-github",
        "colab_type": "text"
      },
      "source": [
        "<a href=\"https://colab.research.google.com/github/ahkhaider-10/Data-Science/blob/main/DATA_SCIENCE_NIELIT.ipynb\" target=\"_parent\"><img src=\"https://colab.research.google.com/assets/colab-badge.svg\" alt=\"Open In Colab\"/></a>"
      ]
    },
    {
      "cell_type": "markdown",
      "metadata": {
        "id": "TeRakdPEHqrs"
      },
      "source": [
        "#05 - 07 - 2022, Tuesday\n"
      ]
    },
    {
      "cell_type": "code",
      "execution_count": null,
      "metadata": {
        "colab": {
          "base_uri": "https://localhost:8080/"
        },
        "id": "sAij0be-bR1S",
        "outputId": "8cdd58a9-ec6c-4abb-c8a3-f2f5c6dce366"
      },
      "outputs": [
        {
          "name": "stdout",
          "output_type": "stream",
          "text": [
            "First day of training at NIELIT, Chandigarh. 05-07-2022\n"
          ]
        }
      ],
      "source": [
        "print(\"First day of training at NIELIT, Chandigarh. 05-07-2022\")"
      ]
    },
    {
      "cell_type": "markdown",
      "metadata": {
        "id": "Lz7AcFSiH0zG"
      },
      "source": [
        "#06 - 07 - 2022, Wednesday"
      ]
    },
    {
      "cell_type": "code",
      "execution_count": null,
      "metadata": {
        "colab": {
          "base_uri": "https://localhost:8080/"
        },
        "id": "HjhZp1dMHV9Q",
        "outputId": "c9b8b873-d62b-4430-ce44-63ca1edc3b55"
      },
      "outputs": [
        {
          "name": "stdout",
          "output_type": "stream",
          "text": [
            "Addition:  15\n",
            "Multiplication:  50\n",
            "Division:  2.0\n",
            "Subtraction:  5\n"
          ]
        }
      ],
      "source": [
        "# WAP to find all arithmetic operations\n",
        "a = 10\n",
        "b = 5\n",
        "print(\"Addition: \",a + b)\n",
        "print(\"Multiplication: \",a * b)\n",
        "print(\"Division: \",a / b)\n",
        "print(\"Subtraction: \",a - b)\n"
      ]
    },
    {
      "cell_type": "code",
      "execution_count": null,
      "metadata": {
        "colab": {
          "base_uri": "https://localhost:8080/"
        },
        "id": "awAnLhP7I6H2",
        "outputId": "75f01663-3f17-4c1f-9c30-dfeb5a5668b6"
      },
      "outputs": [
        {
          "name": "stdout",
          "output_type": "stream",
          "text": [
            "Before swapping: a = 10, b = 20\n",
            "After swapping: a = 20, b = 10\n"
          ]
        }
      ],
      "source": [
        "# WAP to swap two numbers \n",
        "a = 10\n",
        "b = 20\n",
        "print(f\"Before swapping: a = {a}, b = {b}\")\n",
        "temp = a\n",
        "a = b\n",
        "b = temp\n",
        "print(f\"After swapping: a = {a}, b = {b}\")\n"
      ]
    },
    {
      "cell_type": "code",
      "execution_count": null,
      "metadata": {
        "colab": {
          "base_uri": "https://localhost:8080/"
        },
        "id": "_-jl-TkaKK53",
        "outputId": "006c8c03-1b53-4508-9f17-7c7345f8d34c"
      },
      "outputs": [
        {
          "name": "stdout",
          "output_type": "stream",
          "text": [
            "Enter principle (Rs.): 100000\n",
            "Enter rate (%): 8\n",
            "Enter time (yr): 5\n",
            "Simple interest: 40000.0\n"
          ]
        }
      ],
      "source": [
        "# WAP to calculate simple interest\n",
        "p = int(input(\"Enter principle (Rs.): \"))\n",
        "r = int(input(\"Enter rate (%): \"))\n",
        "t = int(input(\"Enter time (yr): \"))\n",
        "SI = (p*r*t) / 100\n",
        "print(f\"Simple interest: {SI}\")\n"
      ]
    },
    {
      "cell_type": "code",
      "execution_count": null,
      "metadata": {
        "id": "U6CxAt9H7p7S"
      },
      "outputs": [],
      "source": [
        "# WAP \n",
        "\n"
      ]
    },
    {
      "cell_type": "markdown",
      "metadata": {
        "id": "hbGvZOIOHh9C"
      },
      "source": [
        "#07 - 07 - 2022, Thursday"
      ]
    },
    {
      "cell_type": "code",
      "execution_count": null,
      "metadata": {
        "colab": {
          "base_uri": "https://localhost:8080/"
        },
        "id": "BZAq3rZ2L2h6",
        "outputId": "8072aafb-383d-4195-aeba-125dcae9be7e"
      },
      "outputs": [
        {
          "name": "stdout",
          "output_type": "stream",
          "text": [
            "Please enter an expression: 2 + 5 + 9\n",
            "16\n"
          ]
        }
      ],
      "source": [
        "# eval function\n",
        "a = eval(input(\"Please enter an expression: \"))\n",
        "print(a)\n"
      ]
    },
    {
      "cell_type": "code",
      "execution_count": null,
      "metadata": {
        "colab": {
          "base_uri": "https://localhost:8080/"
        },
        "id": "jwcwc6qJ4rvS",
        "outputId": "673e04b1-4648-43dd-a59a-c700204df0d0"
      },
      "outputs": [
        {
          "name": "stdout",
          "output_type": "stream",
          "text": [
            "10:20:30:40\n",
            "10-----20-----30-----40\n"
          ]
        }
      ],
      "source": [
        "# controlling print statement\n",
        "a, b, c, d = 10, 20, 30, 40\n",
        "print(a, b, c, d, sep = ':') # sep = seperator\n",
        "print(a, b, c, d, sep = '-----')"
      ]
    },
    {
      "cell_type": "code",
      "execution_count": null,
      "metadata": {
        "colab": {
          "base_uri": "https://localhost:8080/"
        },
        "id": "dFLu3k974ljE",
        "outputId": "bb944c1f-4993-4228-d5c4-1f00a17aa19d"
      },
      "outputs": [
        {
          "name": "stdout",
          "output_type": "stream",
          "text": [
            "This is through my_print\n",
            "let's see, if we get error or not\n"
          ]
        }
      ],
      "source": [
        "# print is a function, we can assign it to other variables\n",
        "my_print = print\n",
        "my_print('This is through my_print')\n",
        "print(\"let's see, if we get error or not\")"
      ]
    },
    {
      "cell_type": "code",
      "execution_count": null,
      "metadata": {
        "colab": {
          "base_uri": "https://localhost:8080/"
        },
        "id": "B55xCq335Y-U",
        "outputId": "72cf0e17-f1e9-4afb-a28e-89dd0dea7416"
      },
      "outputs": [
        {
          "name": "stdout",
          "output_type": "stream",
          "text": [
            "This is through print\n"
          ]
        }
      ],
      "source": [
        "print(\"This is through print\")\n"
      ]
    },
    {
      "cell_type": "code",
      "execution_count": null,
      "metadata": {
        "id": "PDg_XPAm5db_"
      },
      "outputs": [],
      "source": [
        "'''\n",
        "Operators:\n",
        "1. Binary\n",
        "2. Unary\n",
        "3. Ternary\n",
        "'''\n"
      ]
    },
    {
      "cell_type": "code",
      "execution_count": null,
      "metadata": {
        "colab": {
          "base_uri": "https://localhost:8080/"
        },
        "id": "_50qAvA06N93",
        "outputId": "7af7a4c5-ba94-4161-8b34-5a827bf1b51a"
      },
      "outputs": [
        {
          "name": "stdout",
          "output_type": "stream",
          "text": [
            "Enter first number: 4\n",
            "Enter second number: 9\n",
            "9 is greater than 4\n"
          ]
        }
      ],
      "source": [
        "# WAP to get the bigger of two numbers: \n",
        "x = int(input('Enter first number: '))\n",
        "y = int(input('Enter second number: '))\n",
        "if x > y:\n",
        "  print(f'{x} is greater than {y}')\n",
        "else:\n",
        "  print(f'{y} is greater than {x}')\n",
        "\n"
      ]
    },
    {
      "cell_type": "code",
      "execution_count": null,
      "metadata": {
        "colab": {
          "base_uri": "https://localhost:8080/"
        },
        "id": "S1KdBN2M7t9y",
        "outputId": "a8aff839-c6c1-4fe9-d323-11e85b5ad480"
      },
      "outputs": [
        {
          "name": "stdout",
          "output_type": "stream",
          "text": [
            "Enter a number: 0\n",
            "The number is zero.\n"
          ]
        }
      ],
      "source": [
        "# Chech whether a number: is positive, is negative or zero, using 'if-elif-else'\n",
        "num = float(input(\"Enter a number: \"))\n",
        "if num > 0:\n",
        "  print('The number is positive.')\n",
        "elif num == 0:\n",
        "  print('The number is zero.')\n",
        "else:\n",
        "  print('The number is negative.')"
      ]
    },
    {
      "cell_type": "code",
      "execution_count": null,
      "metadata": {
        "id": "1txKJTBk8fAu"
      },
      "outputs": [],
      "source": [
        "# WAP to check whether character is althabet or not:\n",
        "ch = input('Enter the character(s): ')\n",
        "if ch.isalpha():\n",
        "  print('Alphabet')\n",
        "else:\n",
        "  print('Not an alphabet')"
      ]
    },
    {
      "cell_type": "code",
      "execution_count": null,
      "metadata": {
        "id": "gOGr7QzR8qM9"
      },
      "outputs": [],
      "source": [
        "# WAP Enter marks of maths, science,"
      ]
    },
    {
      "cell_type": "code",
      "execution_count": null,
      "metadata": {
        "id": "Mz52a9la-Xif"
      },
      "outputs": [],
      "source": [
        "# WAP to display menu of choice and find sum or product accordingly:\n",
        "choice = int(input('Enter you choice: '))\n",
        "if choice == 1:\n",
        "  a = int(input('enter first number: '))\n",
        "  b = int(input('enter second number: '))\n",
        "  \n",
        "\n"
      ]
    },
    {
      "cell_type": "code",
      "execution_count": null,
      "metadata": {
        "colab": {
          "base_uri": "https://localhost:8080/"
        },
        "id": "6H9L4nML_A20",
        "outputId": "0e939319-37d9-4b48-a3dc-d8c8890bef16"
      },
      "outputs": [
        {
          "name": "stdout",
          "output_type": "stream",
          "text": [
            "Enter the number: 7\n",
            "Factorial of number = 5040\n"
          ]
        }
      ],
      "source": [
        "# Factorial of a number:\n",
        "f = 1\n",
        "x = int(input('Enter the number: '))\n",
        "while(x > 1):\n",
        "  f = f * x\n",
        "  x = x - 1 \n",
        "print(f'Factorial of number = {f}') "
      ]
    },
    {
      "cell_type": "markdown",
      "metadata": {
        "id": "mRWdZ65OBWbs"
      },
      "source": [
        "#Armstrong Number: \n",
        "A number is thought of as an Armstrong number if the sum of its own digits raised to the power number of digits gives the number itself. For example, 0, 1, 153, 370, 371, 407 are three-digit Armstrong numbers and, 1634, 8208, 9474 are four-digit Armstrong numbers and there are many more.\n",
        "\n",
        "#Perfect Number:\n",
        "perfect number, a positive integer that is equal to the sum of its proper divisors. The smallest perfect number is 6, which is the sum of 1, 2, and 3. Other perfect numbers are 28, 496, and 8,128.\n",
        "\n",
        "\n",
        "#Sum of digits of a number:"
      ]
    },
    {
      "cell_type": "code",
      "execution_count": null,
      "metadata": {
        "colab": {
          "base_uri": "https://localhost:8080/"
        },
        "id": "zquCtRx8Cpht",
        "outputId": "bfc99950-bd16-4923-945a-de2f6dba6570"
      },
      "outputs": [
        {
          "name": "stdout",
          "output_type": "stream",
          "text": [
            "Enter a number: 153\n",
            "Not an armstrong number\n"
          ]
        }
      ],
      "source": [
        "# Program to input a number and check armstrong.\n",
        "num = int(input('Enter a number: '))\n",
        "num = 8383\n",
        "sum = 0\n",
        "temp = num\n",
        "while temp > 0:\n",
        "  r = temp % 10\n",
        "  sum = sum + (r**3)\n",
        "  temp = temp / 10\n",
        "if (num == sum):\n",
        "    print(\"Armstrong number\")\n",
        "else:\n",
        "    print(\"Not an armstrong number\")"
      ]
    },
    {
      "cell_type": "markdown",
      "metadata": {
        "id": "e02tQMFDH-v7"
      },
      "source": [
        "# 08 - 07 - 2022, Friday"
      ]
    },
    {
      "cell_type": "code",
      "execution_count": null,
      "metadata": {
        "id": "PpgbF8WdC8jB"
      },
      "outputs": [],
      "source": [
        "'''\n",
        "Loops: for\n",
        "'range' keyword:\n",
        "range(10, 15, 1) = 10, 11, 12, 13, 14\n",
        "\n",
        "'''\n",
        "for j in range(1, 6):\n",
        "  print(j, end = \",\")\n",
        "\n",
        "for j in range(0, 51, 5):\n",
        "  print(j)\n",
        "  print(\"hello\")\n",
        "print(\"done\")"
      ]
    },
    {
      "cell_type": "code",
      "execution_count": null,
      "metadata": {
        "colab": {
          "base_uri": "https://localhost:8080/"
        },
        "id": "IYQ8Z_0tED7f",
        "outputId": "411caed7-0b2d-4568-c2c1-4f8c6b5f6ceb"
      },
      "outputs": [
        {
          "name": "stdout",
          "output_type": "stream",
          "text": [
            "4\n",
            "T\n"
          ]
        }
      ],
      "source": [
        "# break, continue \n",
        "for i in range(1, 5, 1):\n",
        "  continue\n",
        "print(i)\n",
        "\n",
        "for ch in \"COMPUTER\":\n",
        "  if ch == \"T\":\n",
        "    print(ch)\n",
        "  "
      ]
    },
    {
      "cell_type": "code",
      "execution_count": null,
      "metadata": {
        "id": "tNOmj0PqEiNr"
      },
      "outputs": [],
      "source": [
        "i = 0\n",
        "while i < 9:\n",
        "  i = i + 1\n",
        "  if i == 5:\n",
        "    continue\n",
        "  else:\n",
        "    break\n"
      ]
    },
    {
      "cell_type": "code",
      "execution_count": null,
      "metadata": {
        "id": "b2qa_YXiELEs"
      },
      "outputs": [],
      "source": [
        "# WAP to print pattern using nested 'for'\n",
        "for i in range(1, 6):\n",
        "  for j in range(1, 4):\n",
        "    print(i, end = \"   \")\n",
        "  print(\"\\n\")\n"
      ]
    },
    {
      "cell_type": "code",
      "execution_count": null,
      "metadata": {
        "colab": {
          "base_uri": "https://localhost:8080/"
        },
        "id": "dyzFpnxhF5ll",
        "outputId": "405df383-a65a-4a3c-c1d0-f0f36d070b4f"
      },
      "outputs": [
        {
          "name": "stdout",
          "output_type": "stream",
          "text": [
            "1  \n",
            "1 2  \n",
            "1 2 3  \n",
            "1 2 3 4  \n"
          ]
        }
      ],
      "source": [
        "# WAP to print a pyramid patter using 'for':\n",
        "for i in range(1, 5):\n",
        "  for j in range(1, i + 1):\n",
        "    print(j, end = ' ')\n",
        "  print(' ')"
      ]
    },
    {
      "cell_type": "code",
      "execution_count": null,
      "metadata": {
        "id": "vyeOSFKNGX8H"
      },
      "outputs": [],
      "source": [
        "# WAP to print a pyramid (inverted)\n",
        "for i in range(6, 0, -1):\n",
        "  for j in range(1, i + 1):\n",
        "    print(j, end = ' ') # i or j\n",
        "  print(' ')"
      ]
    },
    {
      "cell_type": "code",
      "execution_count": null,
      "metadata": {
        "colab": {
          "base_uri": "https://localhost:8080/"
        },
        "id": "ponIirtAGxEW",
        "outputId": "1e41ddf6-4592-4fde-daee-0ad044a023f8"
      },
      "outputs": [
        {
          "name": "stdout",
          "output_type": "stream",
          "text": [
            "1  *  1  =  1\n",
            "1  *  2  =  2\n",
            "1  *  3  =  3\n",
            "1  *  4  =  4\n",
            "1  *  5  =  5\n",
            "1  *  6  =  6\n",
            "1  *  7  =  7\n",
            "1  *  8  =  8\n",
            "1  *  9  =  9\n",
            "1  *  10  =  10\n",
            "\n",
            "\n",
            "2  *  1  =  2\n",
            "2  *  2  =  4\n",
            "2  *  3  =  6\n",
            "2  *  4  =  8\n",
            "2  *  5  =  10\n",
            "2  *  6  =  12\n",
            "2  *  7  =  14\n",
            "2  *  8  =  16\n",
            "2  *  9  =  18\n",
            "2  *  10  =  20\n",
            "\n",
            "\n",
            "3  *  1  =  3\n",
            "3  *  2  =  6\n",
            "3  *  3  =  9\n",
            "3  *  4  =  12\n",
            "3  *  5  =  15\n",
            "3  *  6  =  18\n",
            "3  *  7  =  21\n",
            "3  *  8  =  24\n",
            "3  *  9  =  27\n",
            "3  *  10  =  30\n",
            "\n",
            "\n",
            "4  *  1  =  4\n",
            "4  *  2  =  8\n",
            "4  *  3  =  12\n",
            "4  *  4  =  16\n",
            "4  *  5  =  20\n",
            "4  *  6  =  24\n",
            "4  *  7  =  28\n",
            "4  *  8  =  32\n",
            "4  *  9  =  36\n",
            "4  *  10  =  40\n",
            "\n",
            "\n",
            "5  *  1  =  5\n",
            "5  *  2  =  10\n",
            "5  *  3  =  15\n",
            "5  *  4  =  20\n",
            "5  *  5  =  25\n",
            "5  *  6  =  30\n",
            "5  *  7  =  35\n",
            "5  *  8  =  40\n",
            "5  *  9  =  45\n",
            "5  *  10  =  50\n",
            "\n",
            "\n"
          ]
        }
      ],
      "source": [
        "# WAP to print tables:\n",
        "for i in range(1, 6):\n",
        "  for j in range(1, 11):\n",
        "    print(i, ' * ', j, ' = ', i * j)\n",
        "  print('\\n')\n",
        "  "
      ]
    },
    {
      "cell_type": "code",
      "execution_count": null,
      "metadata": {
        "colab": {
          "base_uri": "https://localhost:8080/"
        },
        "id": "D1wVPsq8IFlF",
        "outputId": "4b36fa7e-838d-49db-8b0e-4a833b669d17"
      },
      "outputs": [
        {
          "name": "stdout",
          "output_type": "stream",
          "text": [
            "y\n",
            "n\n",
            "p\n",
            "h\n"
          ]
        }
      ],
      "source": [
        "# index positive or negative:\n",
        "string = 'python'\n",
        "print(string[1])\n",
        "print(string[-1])\n",
        "print(string[0])\n",
        "print(string[-3])\n"
      ]
    },
    {
      "cell_type": "code",
      "execution_count": null,
      "metadata": {
        "colab": {
          "base_uri": "https://localhost:8080/"
        },
        "id": "o-Q97253SDt8",
        "outputId": "5388431a-190c-45c9-bb3a-72c5a9b08fae"
      },
      "outputs": [
        {
          "name": "stdout",
          "output_type": "stream",
          "text": [
            "CH CH CH CH CH CH CH CH CH CH "
          ]
        }
      ],
      "source": [
        "# String traversing:\n",
        "c = 'Chandigarh'\n",
        "for i in c:\n",
        "  print('CH', end = ' ')"
      ]
    },
    {
      "cell_type": "code",
      "execution_count": null,
      "metadata": {
        "colab": {
          "base_uri": "https://localhost:8080/"
        },
        "id": "hyjYgLI-SXDq",
        "outputId": "98816458-367c-40b9-d6b9-03996398039e"
      },
      "outputs": [
        {
          "name": "stdout",
          "output_type": "stream",
          "text": [
            "Enter a string: ahk\n",
            "Length of string:  3\n"
          ]
        }
      ],
      "source": [
        "# WAP to find length of a string:\n",
        "x = input('Enter a string: ')\n",
        "print('Length of string: ', len(x))\n",
        "# count = 0\n",
        "# for i in x:\n",
        "#   count =+ 1\n",
        "# print('Length of string: ', count)"
      ]
    },
    {
      "cell_type": "code",
      "execution_count": null,
      "metadata": {
        "id": "tLuos1m9TRMx"
      },
      "outputs": [],
      "source": [
        "# WAP to determine prime numbers:\n",
        "print(2, 3, 5, 7)\n",
        "for i in range(2, 100):\n",
        "  if i % 2 == 0 or i % 3 == 0 or i % 5 == 0 or i % 7 == 0:\n",
        "    continue\n",
        "  else:\n",
        "    print(i)"
      ]
    },
    {
      "cell_type": "code",
      "execution_count": null,
      "metadata": {
        "colab": {
          "base_uri": "https://localhost:8080/"
        },
        "id": "3D8SqA-bvIsB",
        "outputId": "d6e10531-810c-4e4c-be44-6623d969431b"
      },
      "outputs": [
        {
          "name": "stdout",
          "output_type": "stream",
          "text": [
            "Sum of resiprocals of first 100 natural numbers:  5.187377517639621\n"
          ]
        }
      ],
      "source": [
        "# Print the sum of resiprocals of first 100 natural nuumbers\n",
        "sum = 0\n",
        "for i in range(1, 101):\n",
        "  rec = 1 / i\n",
        "  sum = sum + rec\n",
        "print('Sum of resiprocals of first 100 natural numbers: ', sum)"
      ]
    },
    {
      "cell_type": "code",
      "execution_count": null,
      "metadata": {
        "colab": {
          "base_uri": "https://localhost:8080/"
        },
        "id": "qQBQvVpjvMU-",
        "outputId": "b64251ba-9c48-4e79-ece0-ad5d8f5a7987"
      },
      "outputs": [
        {
          "name": "stdout",
          "output_type": "stream",
          "text": [
            "Enter the number: 1\n",
            "Enter the number: -8\n",
            "Enter the number: 7\n",
            "Enter the number: -9\n",
            "Enter the number: 3\n",
            "The sum of positive inputs:  11\n"
          ]
        }
      ],
      "source": [
        "# Read 5 integer inputs from a user. Print the sum of only positive inputs.\n",
        "mylist = []\n",
        "sum = 0\n",
        "for i in range(5):\n",
        "  x = int(input('Enter the number: '))\n",
        "  mylist.append(x)\n",
        "for i in mylist:\n",
        "  if i >= 0:\n",
        "    sum = sum + i\n",
        "print('The sum of positive inputs: ', sum)\n"
      ]
    },
    {
      "cell_type": "code",
      "execution_count": null,
      "metadata": {
        "colab": {
          "base_uri": "https://localhost:8080/"
        },
        "id": "00D7DNHhvMgW",
        "outputId": "7a574d1e-4c31-4a0c-f286-11c78d3d3ad1"
      },
      "outputs": [
        {
          "name": "stdout",
          "output_type": "stream",
          "text": [
            "HAIDER = LION\n",
            "haider = lion\n",
            "Haider = lion\n",
            "False\n"
          ]
        }
      ],
      "source": [
        "# WAP to display all string functions in one program : upper, capitalize, isalpha, i\n",
        "mystring = 'haiDer = Lion'\n",
        "print(mystring.upper())\n",
        "print(mystring.lower())\n",
        "print(mystring.capitalize())\n",
        "print(mystring.isalpha())\n"
      ]
    },
    {
      "cell_type": "code",
      "execution_count": null,
      "metadata": {
        "colab": {
          "base_uri": "https://localhost:8080/"
        },
        "id": "LgMvtTEYyvVK",
        "outputId": "f277020f-f5d3-41da-c474-5cb9a79feb47"
      },
      "outputs": [
        {
          "name": "stdout",
          "output_type": "stream",
          "text": [
            "c: 5\n",
            "t: 2\n",
            "s: 4\n",
            "h: 2\n"
          ]
        }
      ],
      "source": [
        "# Count the occurence of character in string\n",
        "mystring = 'This is my string, we will find occurence of characters.'\n",
        "print('c:', mystring.count('c'))\n",
        "print('t:', mystring.count('t'))\n",
        "print('s:', mystring.count('s'))\n",
        "print('h:', mystring.count('h'))"
      ]
    },
    {
      "cell_type": "markdown",
      "metadata": {
        "id": "tc2wVOdayUJz"
      },
      "source": [
        "#11-07-2022, Monday"
      ]
    },
    {
      "cell_type": "code",
      "execution_count": null,
      "metadata": {
        "id": "BFSkUm2Eya2Y"
      },
      "outputs": [],
      "source": [
        "# ord() function returns the numeric value of char\n",
        "# chr() function returns the character corresponding to ascii code\n",
        "a = ord('A')\n",
        "b = ord('Z')\n",
        "c = chr(97)\n",
        "d = chr(112)\n",
        "e = chr(a)\n",
        "print(a, \n",
        "      b, \n",
        "      c, \n",
        "      d,\n",
        "      e)"
      ]
    },
    {
      "cell_type": "code",
      "execution_count": null,
      "metadata": {
        "colab": {
          "base_uri": "https://localhost:8080/"
        },
        "id": "Nup5jf_qflsD",
        "outputId": "81bb6dfc-990e-42c6-b925-df6800660f3a"
      },
      "outputs": [
        {
          "name": "stdout",
          "output_type": "stream",
          "text": [
            "1 to 3 or\n",
            "2 to end rtion\n",
            "1 to -1 ortio\n",
            "0 to -1 Portio\n",
            "-7 to -1 Portio\n",
            "Till end Portion\n"
          ]
        }
      ],
      "source": [
        "# slicing on strings:\n",
        "str = \"Portion\"\n",
        "#      0123456\n",
        "#     -7.....-1\n",
        "print('1 to 3', str[1:3])\n",
        "print('2 to end', str[2:])\n",
        "print('1 to -1', str[1:-1])\n",
        "print('0 to -1', str[:-1])\n",
        "print('-7 to -1', str[-7:-1])\n",
        "print('Till end', str[0:7])\n"
      ]
    },
    {
      "cell_type": "code",
      "execution_count": null,
      "metadata": {
        "colab": {
          "base_uri": "https://localhost:8080/",
          "height": 35
        },
        "id": "KIiE0IlDgsfr",
        "outputId": "d719054a-3b92-4cac-9a8a-12e74d27722a"
      },
      "outputs": [
        {
          "data": {
            "application/vnd.google.colaboratory.intrinsic+json": {
              "type": "string"
            },
            "text/plain": [
              "' noht'"
            ]
          },
          "execution_count": 27,
          "metadata": {},
          "output_type": "execute_result"
        }
      ],
      "source": [
        "name = 'Python Programming'\n",
        "name[-12:1:-1]"
      ]
    },
    {
      "cell_type": "code",
      "execution_count": null,
      "metadata": {
        "colab": {
          "base_uri": "https://localhost:8080/"
        },
        "id": "hUiQLzNNg9SI",
        "outputId": "d37bac44-3ef4-483a-d50a-7d72475efc11"
      },
      "outputs": [
        {
          "name": "stdout",
          "output_type": "stream",
          "text": [
            "P Welcome\n",
            "y Welcome\n",
            "t Welcome\n",
            "h Welcome\n",
            "o Welcome\n",
            "n Welcome\n",
            "  Welcome\n",
            "T Welcome\n",
            "r Welcome\n",
            "a Welcome\n",
            "i Welcome\n",
            "n Welcome\n",
            "i Welcome\n",
            "n Welcome\n",
            "g Welcome\n"
          ]
        }
      ],
      "source": [
        "s = 'Python Training'\n",
        "for i in s:\n",
        "  print(i + ' Welcome')"
      ]
    },
    {
      "cell_type": "code",
      "execution_count": null,
      "metadata": {
        "colab": {
          "base_uri": "https://localhost:8080/"
        },
        "id": "dA17wAKKhQke",
        "outputId": "c950cf88-6439-494b-fee8-bf052bcb1fd4"
      },
      "outputs": [
        {
          "name": "stdout",
          "output_type": "stream",
          "text": [
            "Chandigarh\n",
            "False\n",
            "CHANDIGARH\n",
            "chandigarh\n",
            "False\n",
            "True\n",
            "True\n",
            "False\n",
            "True\n",
            "False\n",
            "True\n"
          ]
        }
      ],
      "source": [
        "str = 'chanDiGarh'\n",
        "print(str.capitalize())\n",
        "print(str.isupper())\n",
        "print(str.upper())\n",
        "print(str.lower())\n",
        "print(str.islower())\n",
        "print(str.isalpha())\n",
        "print(str.isalnum())\n",
        "print('Rcc@123'.isalnum()) # @ special character.\n",
        "print('123400'.isalnum())\n",
        "print('Abcd'.isdigit())\n",
        "print('213345'.isdigit())\n"
      ]
    },
    {
      "cell_type": "code",
      "execution_count": null,
      "metadata": {
        "colab": {
          "base_uri": "https://localhost:8080/"
        },
        "id": "gi4_-OYkiwg-",
        "outputId": "ce13dc06-f848-4259-ee9e-87cd19a7cdb9"
      },
      "outputs": [
        {
          "name": "stdout",
          "output_type": "stream",
          "text": [
            "python programming is fun.\n",
            "2\n",
            "1\n",
            "-1\n",
            "True\n"
          ]
        }
      ],
      "source": [
        "title = 'Python Programming is Fun.'\n",
        "print(title.casefold())\n",
        "print(title.count('m')) # counting the occurence\n",
        "print(title.find('y')) # to find the position of a character\n",
        "print(title.find('C')) # find position of a character which is not present\n",
        "print(title.endswith('Fun.')) # endswith function "
      ]
    },
    {
      "cell_type": "code",
      "execution_count": null,
      "metadata": {
        "colab": {
          "base_uri": "https://localhost:8080/"
        },
        "id": "x9CT9ftdjfAB",
        "outputId": "c055eaa0-6c84-4a09-f839-b9d3b95655ba"
      },
      "outputs": [
        {
          "name": "stdout",
          "output_type": "stream",
          "text": [
            "Original length 11\n",
            "Left strip:  9\n",
            "Right strip:  9\n"
          ]
        }
      ],
      "source": [
        "str = '  R  C  C  '\n",
        "print('Original length', len(str))\n",
        "str1 = str.lstrip()\n",
        "print('Left strip: ', len(str1))\n",
        "str2 = str.rstrip()\n",
        "print('Right strip: ', len(str2)) "
      ]
    },
    {
      "cell_type": "code",
      "execution_count": null,
      "metadata": {
        "colab": {
          "base_uri": "https://localhost:8080/"
        },
        "id": "PKr-4H_5kJYj",
        "outputId": "f0c7b930-36b5-4659-ab69-c8fac3addadf"
      },
      "outputs": [
        {
          "name": "stdout",
          "output_type": "stream",
          "text": [
            "True\n",
            "True\n"
          ]
        }
      ],
      "source": [
        "print(' '.isspace())\n",
        "print('This Is Rcc'.istitle()) # title: initials of every word is capital."
      ]
    },
    {
      "cell_type": "code",
      "execution_count": null,
      "metadata": {
        "colab": {
          "base_uri": "https://localhost:8080/"
        },
        "id": "w7dgEl2VkhcM",
        "outputId": "83416e95-01a3-4f72-d7ff-08688a50bf4d"
      },
      "outputs": [
        {
          "name": "stdout",
          "output_type": "stream",
          "text": [
            "NIELIT Chandigarh prior name was RCC Chandigarh.\n"
          ]
        }
      ],
      "source": [
        "# replace(old, new)\n",
        "str = 'NIELIT Chandigarh prior name was DOEACC Chandigarh.'\n",
        "print(str.replace('DOEACC', 'RCC'))\n"
      ]
    },
    {
      "cell_type": "code",
      "execution_count": null,
      "metadata": {
        "colab": {
          "base_uri": "https://localhost:8080/"
        },
        "id": "Ngo95jRAk3jf",
        "outputId": "00e93db6-be19-4134-d26a-4175fbe7a33f"
      },
      "outputs": [
        {
          "name": "stdout",
          "output_type": "stream",
          "text": [
            "CHD Chandigarh\n"
          ]
        }
      ],
      "source": [
        "# string join:\n",
        "str = 'CHD'\n",
        "str1 = ('NIELIT', 'Ropar')\n",
        "str3 = 'Chandigarh'\n",
        "str2 = ' '\n",
        "print(str + str2 + str3)"
      ]
    },
    {
      "cell_type": "code",
      "execution_count": null,
      "metadata": {
        "colab": {
          "base_uri": "https://localhost:8080/"
        },
        "id": "-HpYh-bulVVk",
        "outputId": "2a62214d-d594-4453-f072-a64d57fd57b5"
      },
      "outputs": [
        {
          "name": "stdout",
          "output_type": "stream",
          "text": [
            "computer\n"
          ]
        }
      ],
      "source": [
        "# swapcase():\n",
        "str = 'COMPUTER'\n",
        "print(str.swapcase())"
      ]
    },
    {
      "cell_type": "code",
      "execution_count": null,
      "metadata": {
        "colab": {
          "base_uri": "https://localhost:8080/"
        },
        "id": "DED8jOU9lf34",
        "outputId": "2a758213-1307-4100-a511-87586ef7bd5c"
      },
      "outputs": [
        {
          "name": "stdout",
          "output_type": "stream",
          "text": [
            "('The ', 'Gold', 'en Star.')\n",
            "('Th', 'e', ' Golden Star.')\n",
            "('The Golden St', 'a', 'r.')\n",
            "('The', ' ', 'Golden Star.')\n",
            "('The Golden Sta', 'r', '.')\n"
          ]
        }
      ],
      "source": [
        "# partition():\n",
        "str = 'The Golden Star.'\n",
        "print(str.partition('Gold'))\n",
        "print(str.partition('e'))\n",
        "print(str.partition('a'))\n",
        "print(str.partition(' '))\n",
        "print(str.partition('r'))"
      ]
    },
    {
      "cell_type": "code",
      "execution_count": null,
      "metadata": {
        "colab": {
          "base_uri": "https://localhost:8080/"
        },
        "id": "p3hp_bqCmEqR",
        "outputId": "9292cfd0-f8c2-462b-ae16-c88f2a0b7915"
      },
      "outputs": [
        {
          "name": "stdout",
          "output_type": "stream",
          "text": [
            "['Try', 'try', 'again', 'until', 'you', 'succeed']\n"
          ]
        }
      ],
      "source": [
        "# split():\n",
        "str = 'Try try again until you succeed'\n",
        "print(str.split())"
      ]
    },
    {
      "cell_type": "code",
      "execution_count": null,
      "metadata": {
        "colab": {
          "base_uri": "https://localhost:8080/"
        },
        "id": "gVM3NRVxm8Fb",
        "outputId": "a635f65c-0225-4c41-c37d-936a37652521"
      },
      "outputs": [
        {
          "name": "stdout",
          "output_type": "stream",
          "text": [
            "[12, 45, 67, 89, 61] \n",
            " ['Patiala', 'Sirhind', 'Tharki']"
          ]
        }
      ],
      "source": [
        "# list declaration\n",
        "L1 = [12, 45, 67, 89, 61]\n",
        "city = ['Patiala', 'Sirhind', 'Tharki']\n",
        "print(L1, '\\n', city, end = '')"
      ]
    },
    {
      "cell_type": "code",
      "execution_count": null,
      "metadata": {
        "id": "q7zzj-uvpevN"
      },
      "outputs": [],
      "source": [
        "# List operations: \n",
        "# Joining List (+)\n",
        "a = [1, 2, 3]\n",
        "b = [4, 5, 6]\n",
        "print(a + b)\n",
        "\n",
        "# repeat operation\n",
        "c = [11, 12]\n",
        "print(c * 3)\n",
        "\n",
        "# slicing list\n",
        "L1 = ['a', 'b', 'c']\n",
        "print(L1[1:2])\n",
        "\n",
        "l = [1, 2, 3, 4, 5, 6, 7, 8, 9, 10]\n",
        "print(l[1:7:2])\n",
        "\n",
        "print(l[7:10])\n",
        "print(l[0:9])\n",
        "print(l[::3])\n",
        "print(l[8:3:-1])\n",
        "print(l[::-2])\n"
      ]
    },
    {
      "cell_type": "code",
      "execution_count": null,
      "metadata": {
        "colab": {
          "base_uri": "https://localhost:8080/"
        },
        "id": "btKg_swlq7D5",
        "outputId": "66f59b93-fc67-42ee-c34a-c67a68a24ec1"
      },
      "outputs": [
        {
          "name": "stdout",
          "output_type": "stream",
          "text": [
            "10\n",
            "[1, 3, 5, 7, 9]\n",
            "[2, 4]\n"
          ]
        }
      ],
      "source": [
        "print(sum(list(range(1, 5))))\n",
        "print(list(range(1, 10, 2)))\n",
        "print(list(range(2, 5, 2)))\n"
      ]
    },
    {
      "cell_type": "code",
      "execution_count": null,
      "metadata": {
        "colab": {
          "base_uri": "https://localhost:8080/"
        },
        "id": "KGxHbvUssLV8",
        "outputId": "6af0167a-fce6-41ac-a26a-f955451bbdd9"
      },
      "outputs": [
        {
          "name": "stdout",
          "output_type": "stream",
          "text": [
            "H@ider\n"
          ]
        }
      ],
      "source": [
        "# WAP to replace a character in a string with symbol:\n",
        "mystring = 'Haider'\n",
        "print(mystring.replace('a', '@'))"
      ]
    },
    {
      "cell_type": "code",
      "execution_count": null,
      "metadata": {
        "colab": {
          "base_uri": "https://localhost:8080/"
        },
        "id": "sPgpljdQJJh_",
        "outputId": "ac1e1cbd-4646-4163-b030-f2501df99176"
      },
      "outputs": [
        {
          "name": "stdout",
          "output_type": "stream",
          "text": [
            "Enter the word, for which you wish to find palindrome: ahk\n",
            "ahk is Not Palindrome\n"
          ]
        }
      ],
      "source": [
        "# WAP to check whether string is palindrome or not\n",
        "s = input('Enter the word, for which you wish to find palindrome: ')\n",
        "if s == s[::-1]:\n",
        "  print(f'{s} is Palindrome')\n",
        "else:\n",
        "  print(f'{s} is Not Palindrome')"
      ]
    },
    {
      "cell_type": "code",
      "execution_count": null,
      "metadata": {
        "colab": {
          "base_uri": "https://localhost:8080/"
        },
        "id": "Zr1oGOLpN1Dp",
        "outputId": "2723d92f-bbf7-4313-84e3-a9bf5336298a"
      },
      "outputs": [
        {
          "name": "stdout",
          "output_type": "stream",
          "text": [
            "Enter a string: haider\n",
            "Number of alphabets:  1\n",
            "Number of digits:  0\n",
            "Number of special characters:  0\n"
          ]
        }
      ],
      "source": [
        "# WAP to count alphabets, digits and special characters in a string\n",
        "s = input('Enter a string: ')\n",
        "alpha = 0\n",
        "dig = 0\n",
        "spcl = 0\n",
        "for i in s:\n",
        "  if i.isalpha():\n",
        "    alpha =+ 1\n",
        "  elif i.isdigit():\n",
        "    dig =+ 1\n",
        "  else:\n",
        "    spcl =+ 1\n",
        "print('Number of alphabets: ', alpha)\n",
        "print('Number of digits: ', dig)\n",
        "print('Number of special characters: ', spcl)"
      ]
    },
    {
      "cell_type": "code",
      "execution_count": null,
      "metadata": {
        "id": "_iCwoLFxRqc6"
      },
      "outputs": [],
      "source": [
        "# Program to input the elements in the list as per the count then find sum of elements.\n",
        "n = int(input('Enter length of list: '))\n",
        "l = []\n",
        "a = int(input('If the elements are numeric, enter 0 otherwise 1: '))\n",
        "for i in range(0, n):\n",
        "  if a == 0:\n",
        "    x = int(input('Enter the element: '))\n",
        "    l.append(x)\n",
        "  else:\n",
        "    y = (input('Enter the element: '))\n",
        "    l.append(y)\n",
        "\n",
        "print(l)\n",
        "if a == 0:\n",
        "  print('Sum of elements of the list: ', sum(l))"
      ]
    },
    {
      "cell_type": "code",
      "execution_count": null,
      "metadata": {
        "colab": {
          "base_uri": "https://localhost:8080/"
        },
        "id": "OouqytpxSjRp",
        "outputId": "d114226b-e972-4498-dae5-26bb5c629c02"
      },
      "outputs": [
        {
          "name": "stdout",
          "output_type": "stream",
          "text": [
            "Enter a string: Ali Haider Khan\n",
            "Number of words: 3\n"
          ]
        }
      ],
      "source": [
        "# Program to read the line and count the number of words in it\n",
        "s = input('Enter a string: ')\n",
        "c = 0\n",
        "l = s.split()\n",
        "for i in l:\n",
        "  c = c + 1\n",
        "print('Number of words:', c)"
      ]
    },
    {
      "cell_type": "code",
      "execution_count": null,
      "metadata": {
        "colab": {
          "base_uri": "https://localhost:8080/"
        },
        "id": "T8zkPDsmSffD",
        "outputId": "8c3570cb-e5ba-43fa-df80-33c27a84def9"
      },
      "outputs": [
        {
          "name": "stdout",
          "output_type": "stream",
          "text": [
            "[1, 2, 43, 97, 6, 45, 12, 5]\n",
            "[1, 2, 5, 6, 12, 43, 45, 97]\n",
            "['m', 'h', 'c', 'd', 'z', 'f', 'b', 'a']\n",
            "['a', 'b', 'c', 'd', 'f', 'h', 'm', 'z']\n"
          ]
        }
      ],
      "source": [
        "# Program to find the sorted middle element in a random number list \n",
        "l = [1, 2, 43, 97, 6, 45, 12, 5]\n",
        "m = ['m', 'h', 'c', 'd', 'z', 'f', 'b', 'a']\n",
        "print(l)\n",
        "l.sort()\n",
        "print(l)\n",
        "print(m)\n",
        "m.sort()\n",
        "print(m)"
      ]
    },
    {
      "cell_type": "markdown",
      "metadata": {
        "id": "tKYx9X-rhBzC"
      },
      "source": [
        "#12-07-2022, Tuesday"
      ]
    },
    {
      "cell_type": "code",
      "execution_count": null,
      "metadata": {
        "colab": {
          "base_uri": "https://localhost:8080/"
        },
        "id": "fGXUHkbPhH0z",
        "outputId": "56a801ec-1e06-4700-f856-b1dd7ed779c1"
      },
      "outputs": [
        {
          "name": "stdout",
          "output_type": "stream",
          "text": [
            "None\n"
          ]
        }
      ],
      "source": [
        "# Traversing through a list of elements: \n",
        "# len(), count(), append(), extend(), insert(), pop(), remove(), sort(), del(), clear(), min(), max()\n",
        "lst = [1, 2, 3, 4, 5, 6]\n",
        "lst1 = [20, 30, 40, 50]\n",
        "print(lst1.extend(lst))"
      ]
    },
    {
      "cell_type": "code",
      "execution_count": null,
      "metadata": {
        "id": "nPJIIdpPqlLr"
      },
      "outputs": [],
      "source": [
        "# Tuples"
      ]
    },
    {
      "cell_type": "code",
      "execution_count": null,
      "metadata": {
        "id": "P08UjNPcqhtD"
      },
      "outputs": [],
      "source": [
        "# Packing and Unpacking"
      ]
    },
    {
      "cell_type": "code",
      "execution_count": null,
      "metadata": {
        "colab": {
          "base_uri": "https://localhost:8080/"
        },
        "id": "hqCA8Dgarb3f",
        "outputId": "8a51ffcf-d3a8-4449-8c18-17801c6743dd"
      },
      "outputs": [
        {
          "name": "stdout",
          "output_type": "stream",
          "text": [
            "10\n",
            "3\n",
            "77\n",
            "33\n",
            "[33, 33, 33, 44, 55, 55, 55, 66, 77, 77]\n",
            "5\n",
            "4\n"
          ]
        }
      ],
      "source": [
        "# Tuple functions: cmp(), len(), max(), min(), count(), sorted(), index()\n",
        "# cmp() compares both tuples and returns 0 if same, -1 if first is greater and 1 if second is greater\n",
        "t = 33, 44, 55, 66, 77, 33, 55, 55, 77, 33\n",
        "print(len(t))\n",
        "print(t.count(33))\n",
        "print(max(t))\n",
        "print(min(t))\n",
        "print(sorted(t))\n",
        "print(t.index(33, 3)) # 3rd occurence\n",
        "print(t.index(77))\n"
      ]
    },
    {
      "cell_type": "code",
      "execution_count": null,
      "metadata": {
        "id": "xC-ylAIpsbr5"
      },
      "outputs": [],
      "source": [
        "# Tuple slicing syntax: [start index(included): stop index(excluded): steps]\n",
        "# Tuple addition\n",
        "# Tuple multiplication (repetition)\n",
        "# Deleting a tuple as tuple cannot be changed so element cannot be deleted and will show error\n"
      ]
    },
    {
      "cell_type": "code",
      "execution_count": null,
      "metadata": {
        "colab": {
          "base_uri": "https://localhost:8080/"
        },
        "id": "jnGF98d6s9g5",
        "outputId": "5a81eed6-28e0-40af-c212-5d5db6aac425"
      },
      "outputs": [
        {
          "name": "stdout",
          "output_type": "stream",
          "text": [
            "[8, 6, -18, 16, 12, -36, 24, 18, -54]\n",
            "[6, 5, -7, 8, 7, -5, 10, 9, -3]\n",
            "[8, 12, -54]\n"
          ]
        }
      ],
      "source": [
        "# List Comprehension\n",
        "v1 = [2, 4, 6]\n",
        "v2 = [4, 3, -9]\n",
        "l = [x * y for x in v1 for y in v2]\n",
        "m = [x + y for x in v1 for y in v2]\n",
        "print(l)\n",
        "print(m)\n",
        "\n",
        "n = [v1[i] * v2[i] for i in range(len(v1))]\n",
        "print(n)"
      ]
    },
    {
      "cell_type": "code",
      "execution_count": null,
      "metadata": {
        "colab": {
          "base_uri": "https://localhost:8080/"
        },
        "id": "LstuKbNyuWxb",
        "outputId": "e2f60b26-e3f8-4fb7-8673-4335b941d8bd"
      },
      "outputs": [
        {
          "name": "stdout",
          "output_type": "stream",
          "text": [
            "[12, 18]\n"
          ]
        }
      ],
      "source": [
        "v1 = [2, 4, 6]\n",
        "a = [3 * x for x in v1 if x > 3]\n",
        "print(a)"
      ]
    },
    {
      "cell_type": "code",
      "execution_count": null,
      "metadata": {
        "colab": {
          "base_uri": "https://localhost:8080/"
        },
        "id": "Vpu2zNg2xdYL",
        "outputId": "1a4beec5-3cb9-45f0-9a43-6af071fea545"
      },
      "outputs": [
        {
          "name": "stdout",
          "output_type": "stream",
          "text": [
            "s: [5, 6, 3, 6, 1, 10, 69]\n",
            "t: [5, 6, 3, 6, 1, 10, 69]\n",
            "m: [1, 2, 3, 5, 5, 7, 9]\n",
            "n: [1, 2, 3, 5, 5, 7, 9, 69]\n"
          ]
        }
      ],
      "source": [
        "# Pointers:\n",
        " \n",
        "s = [5, 6, 3, 6, 1, 10]\n",
        "t = s\n",
        "t.append(69)\n",
        "print('s:', s)\n",
        "print('t:', t)\n",
        "\n",
        "m = [1, 2, 3, 5, 5, 7, 9]\n",
        "n = m[:]\n",
        "n.append(69)\n",
        "print('m:', m)\n",
        "print('n:', n)"
      ]
    },
    {
      "cell_type": "code",
      "execution_count": null,
      "metadata": {
        "id": "vbIeObwIwmSd"
      },
      "outputs": [],
      "source": [
        "# Mutable vs Non-Mutable"
      ]
    },
    {
      "cell_type": "code",
      "execution_count": null,
      "metadata": {
        "colab": {
          "base_uri": "https://localhost:8080/"
        },
        "id": "FkTc28EXyKyZ",
        "outputId": "f5287c62-fd59-4fd1-9198-1d9c6e8ff2a4"
      },
      "outputs": [
        {
          "output_type": "stream",
          "name": "stdout",
          "text": [
            "Without list comprehension: [(1, 1), (2, 4), (5, 25), (6, 36)]\n",
            "With list comprehension: [(1, 1), (2, 4), (5, 25), (6, 36)]\n"
          ]
        }
      ],
      "source": [
        "# Add a pair (x, y) in a list if for x in l1 its square y is present in l2\n",
        "l1 = [1, 2, 3, 4, 5, 6]\n",
        "l2 = [1, 4, 10, 17, 25, 36]\n",
        "l = []\n",
        "for i in l1:\n",
        "  for j in l2:\n",
        "    if i**2 == j:\n",
        "      l.append((i, j))\n",
        "    \n",
        "print('Without list comprehension:', l) \n",
        "limst = [(x, y) for x in l1 for y in l2 if x**2 == y]\n",
        "print('With list comprehension:', limst)"
      ]
    },
    {
      "cell_type": "code",
      "execution_count": null,
      "metadata": {
        "id": "3IV70aZj5X4q",
        "colab": {
          "base_uri": "https://localhost:8080/"
        },
        "outputId": "706ffc83-f319-4688-86f5-d6b0a85f5422"
      },
      "outputs": [
        {
          "output_type": "stream",
          "name": "stdout",
          "text": [
            "Enter the number of information set you desire to enter: 2\n",
            "Enter the name: Haider\n",
            "Enter the marks: 12\n",
            "Enter the marks: 13\n",
            "Enter the name: Maasha\n",
            "Enter the marks: 12\n",
            "Enter the marks: 18\n",
            "{'Haider': [12, 13], 'Maasha': [12, 18]}\n"
          ]
        }
      ],
      "source": [
        "# WAP to enter names and marks of students and display information using dictionary\n",
        "n = int(input('Enter the number of information set you desire to enter: '))\n",
        "dic = {} \n",
        "for i in range(0, n):\n",
        "  i = input('Enter the name: ')\n",
        "  L = []\n",
        "  for j in range(2):\n",
        "    dic[i] = int(input('Enter the marks: '))\n",
        "    L.append(dic[i])\n",
        "  dic[i] = L\n",
        "print(dic)"
      ]
    },
    {
      "cell_type": "code",
      "execution_count": null,
      "metadata": {
        "id": "duLFcBjQ5aJh",
        "colab": {
          "base_uri": "https://localhost:8080/"
        },
        "outputId": "34dd0910-8cb0-46a7-e18a-73da2b558a14"
      },
      "outputs": [
        {
          "output_type": "stream",
          "name": "stdout",
          "text": [
            "['apple', 'ali', 'aalo']\n"
          ]
        }
      ],
      "source": [
        "# Write comprehension code for the below code:\n",
        "\n",
        "fruits = ['apple', 'banana', 'cherry', 'kiwi', 'mango', 'ali', 'aalo']\n",
        "'''\n",
        "newlist = []\n",
        "for x in fruits:\n",
        "  if 'a' in x:\n",
        "    newlist.append(x)\n",
        "print(newlist)\n",
        "\n",
        "'''\n",
        "newlist = [x for x in fruits if x[0] == 'a']\n",
        "print(newlist)"
      ]
    },
    {
      "cell_type": "code",
      "execution_count": null,
      "metadata": {
        "id": "pMLszUKuxARN",
        "colab": {
          "base_uri": "https://localhost:8080/"
        },
        "outputId": "246084da-ec2f-44b6-b48f-e0ccb8c18325"
      },
      "outputs": [
        {
          "output_type": "stream",
          "name": "stdout",
          "text": [
            "1\n",
            "2\n",
            "3\n",
            "1\n",
            "5\n",
            "4\n",
            "3\n",
            "2\n",
            "1\n",
            "1\n",
            "2\n",
            "3\n",
            "3\n",
            "4\n",
            "4\n",
            "33\n"
          ]
        }
      ],
      "source": [
        "# Count the frequency of items of list using dictionary\n",
        "dic = {1: [1, 2, 3, 1, 5, 4, 3, 2, 1], 2: [1, 2, 3, 3, 4, 4]}\n",
        "count = 0\n",
        "for i in dic:\n",
        "  for f in dic[i]:\n",
        "    print(f)\n",
        "    for m in range(len(dic[i])):\n",
        "      if dic[i][0] == f:\n",
        "        count = count + 1\n",
        "\n",
        "print(count)"
      ]
    },
    {
      "cell_type": "markdown",
      "metadata": {
        "id": "xgtdTFAExB9i"
      },
      "source": [
        "#13-07-2022, Wednesday\n",
        "***PENDING***"
      ]
    },
    {
      "cell_type": "code",
      "execution_count": null,
      "metadata": {
        "id": "3ceaGUJ0xMd6"
      },
      "outputs": [],
      "source": [
        "#Dictionary: Collection of key-value pair, unordered collection of data values, \n",
        "# used to store date values like a map, which unlike other Data Types that hold only single value as an element\n",
        "mydic = {'Name': 'Ansh', 'city': 'Thakri', 'Phone': '12345'}\n",
        "mydic"
      ]
    },
    {
      "cell_type": "code",
      "execution_count": null,
      "metadata": {
        "id": "wRg_elQFzB0F"
      },
      "outputs": [],
      "source": [
        "# dict() function\n",
        "# update() or assignment.\n",
        "# Using list as a value for a key-value pair\n",
        "# Nested dictionary"
      ]
    },
    {
      "cell_type": "code",
      "source": [
        "# WAP to enter names and marks of students and display information using nested dictionary\n",
        "n = int(input('Enter the number of information set you desire to enter: '))\n",
        "dic = {} \n",
        "for i in range(0, n):\n",
        "  i = input('Enter the name: ')\n",
        "  subDic = {}\n",
        "  for j in range(2):\n",
        "    j = input('Enter the subject: ')\n",
        "    # for h in range(1):\n",
        "    subDic[j] = int(input('Enter the marks: '))\n",
        "  dic[i] = subDic\n",
        "print(dic)"
      ],
      "metadata": {
        "id": "rvE6xP5xmlsu"
      },
      "execution_count": null,
      "outputs": []
    },
    {
      "cell_type": "code",
      "execution_count": null,
      "metadata": {
        "colab": {
          "base_uri": "https://localhost:8080/"
        },
        "id": "CsBajL1B1JH1",
        "outputId": "c41b00aa-5877-4056-abc4-fa3fd0f52e0d"
      },
      "outputs": [
        {
          "name": "stdout",
          "output_type": "stream",
          "text": [
            "{1: 'A', 2: 'B'}\n",
            "{1: 'A'}\n"
          ]
        }
      ],
      "source": [
        "# Removing dictionary elements and dictionaries\n",
        "d = {1: 'A', 2: 'B'}\n",
        "print(d)\n",
        "del d[2]\n",
        "print(d)"
      ]
    },
    {
      "cell_type": "code",
      "execution_count": null,
      "metadata": {
        "colab": {
          "base_uri": "https://localhost:8080/"
        },
        "id": "UQWdTctb1hrR",
        "outputId": "9d487840-c304-4ea7-8947-1b69c951ee18"
      },
      "outputs": [
        {
          "name": "stdout",
          "output_type": "stream",
          "text": [
            "3\n",
            "None\n",
            "cc\n",
            "3\n",
            "dict_keys([1, 2])\n",
            "dict_values(['aa', 'bb'])\n",
            "dict_items([(1, 'aa'), (2, 'bb')])\n"
          ]
        }
      ],
      "source": [
        "# Dictionary functins and methods:\n",
        "d = {1: 'aa', 2: 'bb', 3: 'cc'}\n",
        "print(len(d))\n",
        "print(d.get(5))\n",
        "print(d.get(3))\n",
        "d.pop(3)\n",
        "print(3)\n",
        "print(d.keys())\n",
        "print(d.values())\n",
        "print(d.items())"
      ]
    },
    {
      "cell_type": "code",
      "execution_count": null,
      "metadata": {
        "colab": {
          "base_uri": "https://localhost:8080/"
        },
        "id": "Brt3bxmR2QVT",
        "outputId": "a696e790-50a8-4ad5-e051-95f64ed3c193"
      },
      "outputs": [
        {
          "name": "stdout",
          "output_type": "stream",
          "text": [
            "Haider\n",
            "Ansh\n",
            "Hitesh\n"
          ]
        }
      ],
      "source": [
        "d = {1: 'Haider', 2: 'Ansh', 3: 'Hitesh'}\n",
        "for i in d:\n",
        "  print(d[i])"
      ]
    },
    {
      "cell_type": "code",
      "execution_count": null,
      "metadata": {
        "colab": {
          "base_uri": "https://localhost:8080/"
        },
        "id": "KjT2eHml2k8m",
        "outputId": "b0d990cf-ae68-47bf-aa1e-fb13b7a9e1ac"
      },
      "outputs": [
        {
          "name": "stdout",
          "output_type": "stream",
          "text": [
            "1 --> Haider\n",
            "2 --> Ansh\n",
            "3 --> Hitesh\n"
          ]
        }
      ],
      "source": [
        "for i in d:\n",
        "  print(i, '-->', d[i])"
      ]
    },
    {
      "cell_type": "code",
      "execution_count": null,
      "metadata": {
        "id": "-kfDhqxL2wD8"
      },
      "outputs": [],
      "source": [
        "# Traversing:\n"
      ]
    },
    {
      "cell_type": "code",
      "execution_count": null,
      "metadata": {
        "id": "oWX-lofh4t6x"
      },
      "outputs": [],
      "source": [
        "# File Processing:\n",
        "# open(), close(), read(), write(), etc."
      ]
    },
    {
      "cell_type": "code",
      "execution_count": null,
      "metadata": {
        "id": "3MRjGIqN47IG"
      },
      "outputs": [],
      "source": [
        "# Functions: User defined, set of code which could be called again and again according to the requirement.\n",
        "\n",
        "# Function argument: 1. Default, calling functino with default agruments\n",
        "#                    2. Keyword arguments\n",
        "#                    3. Positional arguments\n",
        "#                    4. Variable length argument in functions\n"
      ]
    },
    {
      "cell_type": "code",
      "execution_count": null,
      "metadata": {
        "colab": {
          "base_uri": "https://localhost:8080/"
        },
        "id": "4fEi2MsJ7C0X",
        "outputId": "ad409be1-f457-4265-b4f5-ea5b3ffd35c4"
      },
      "outputs": [
        {
          "name": "stdout",
          "output_type": "stream",
          "text": [
            "<class 'tuple'>\n",
            "(1, 2, 4, 5, 6, 'string')\n",
            "1\n",
            "2\n",
            "4\n",
            "5\n",
            "6\n",
            "string\n"
          ]
        }
      ],
      "source": [
        "# 4. Variable length argument:\n",
        "def message(*var):\n",
        "  print(type(var))\n",
        "  print(var)\n",
        "  for i in var:\n",
        "    print(i)\n",
        "message(1, 2, 4, 5, 6, 'string')"
      ]
    },
    {
      "cell_type": "code",
      "execution_count": null,
      "metadata": {
        "colab": {
          "base_uri": "https://localhost:8080/"
        },
        "id": "Qha_KpoY9Gho",
        "outputId": "35f39e0a-3d4f-49d2-9844-7f5be4a3680b"
      },
      "outputs": [
        {
          "name": "stdout",
          "output_type": "stream",
          "text": [
            "93.6\n"
          ]
        }
      ],
      "source": [
        "def myAddUniversal (*args):\n",
        "  s = 0 \n",
        "  for i in range(len(args)): \n",
        "    s += args[i] # s = s+args[i]\n",
        "  return s\n",
        "\n",
        "print(myAddUniversal (2,4,5,4.6,78))"
      ]
    },
    {
      "cell_type": "code",
      "execution_count": null,
      "metadata": {
        "colab": {
          "base_uri": "https://localhost:8080/"
        },
        "id": "jII62EgF9C1V",
        "outputId": "d67175fe-7b2f-4c2d-9c3b-4226766d40f6"
      },
      "outputs": [
        {
          "name": "stdout",
          "output_type": "stream",
          "text": [
            "Variable Name is : a  And Value is : 3\n",
            "Variable Name is : b  And Value is : B\n",
            "Variable Name is : c  And Value is : CCC\n",
            "Variable Name is : y  And Value is : 6.7\n"
          ]
        }
      ],
      "source": [
        "def printAllVariableNamesAndValues (**args): \n",
        "  for x in args:\n",
        "    print(\"Variable Name is :\",x,\" And Value is :\", args[x])\n",
        "\n",
        "printAllVariableNamesAndValues(a = 3,b=\"B\",c=\"CCC\",y=6.7)"
      ]
    },
    {
      "cell_type": "code",
      "execution_count": null,
      "metadata": {
        "colab": {
          "base_uri": "https://localhost:8080/"
        },
        "id": "DRVPq4jW769T",
        "outputId": "b7f7d0e1-b2f1-4dd4-b4a2-bf7d932fbba3"
      },
      "outputs": [
        {
          "name": "stdout",
          "output_type": "stream",
          "text": [
            "Outside x = 5\n",
            "y = 4\n",
            "Inside, x = 3\n",
            "Outside again x = 5\n"
          ]
        }
      ],
      "source": [
        "# Scope of a variable:\n",
        "x = 5\n",
        "def print_num(y):\n",
        "  x = 3\n",
        "  print('y =', y)\n",
        "  print('Inside, x =', x)\n",
        "  return y\n",
        "\n",
        "print('Outside x =', x)\n",
        "print_num(4)\n",
        "print('Outside again x =', x)"
      ]
    },
    {
      "cell_type": "code",
      "execution_count": null,
      "metadata": {
        "colab": {
          "base_uri": "https://localhost:8080/"
        },
        "id": "9_xF2OFm97Ea",
        "outputId": "ef2b0e1d-1615-416e-d88f-68302d2be761"
      },
      "outputs": [
        {
          "name": "stdout",
          "output_type": "stream",
          "text": [
            "9\n",
            "9\n"
          ]
        }
      ],
      "source": [
        "def maximum(a, b):\n",
        "  if a > b:\n",
        "    return a\n",
        "  else: return b\n",
        "\n",
        "def minimum(a, b):\n",
        "  if a < b: return a\n",
        "  else: return b\n",
        "\n",
        "x = -1\n",
        "x = maximum(3 + 6, 4)\n",
        "print(x)\n",
        "y = minimum(x, 9)\n",
        "print(y)"
      ]
    },
    {
      "cell_type": "code",
      "execution_count": null,
      "metadata": {
        "id": "lwPnSnZx-nBZ"
      },
      "outputs": [],
      "source": [
        "# global variable"
      ]
    },
    {
      "cell_type": "code",
      "execution_count": null,
      "metadata": {
        "id": "OakNLC24AYFC",
        "colab": {
          "base_uri": "https://localhost:8080/"
        },
        "outputId": "6be90895-efbd-49b0-e836-53643443660d"
      },
      "outputs": [
        {
          "output_type": "stream",
          "name": "stdout",
          "text": [
            "Fibonacci series:\n",
            "0\n",
            "1\n",
            "1\n",
            "2\n",
            "3\n",
            "5\n",
            "8\n",
            "13\n",
            "21\n",
            "34\n"
          ]
        }
      ],
      "source": [
        "# Recursion:\n",
        "def recursive_fibonacci(n):\n",
        "  if n <= 1:\n",
        "      return n\n",
        "  else:\n",
        "      return(recursive_fibonacci(n-1) + recursive_fibonacci(n-2))\n",
        " \n",
        "n_terms = 10\n",
        " \n",
        "# check if the number of terms is valid\n",
        "if n_terms <= 0:\n",
        "  print(\"Invalid input ! Please input a positive value\")\n",
        "else:\n",
        "  print(\"Fibonacci series:\")\n",
        "for i in range(n_terms):\n",
        "    print(recursive_fibonacci(i))"
      ]
    },
    {
      "cell_type": "code",
      "source": [
        "# Recursion:\n",
        "def recursive_factorial(n):\n",
        "  if n == 1:\n",
        "      return n\n",
        "  else:\n",
        "      return n * recursive_factorial(n-1)\n",
        " \n",
        "# user input\n",
        "num = 6\n",
        " \n",
        "# check if the input is valid or not\n",
        "if num < 0:\n",
        "  print(\"Invalid input ! Please enter a positive number.\")\n",
        "elif num == 0:\n",
        "  print(\"Factorial of number 0 is 1\")\n",
        "else:\n",
        "  print(\"Factorial of number\", num, \"=\", recursive_factorial(num))"
      ],
      "metadata": {
        "colab": {
          "base_uri": "https://localhost:8080/"
        },
        "id": "QgOnr33MLiZW",
        "outputId": "5b9da1e4-f9d8-4050-e36c-7bd25672417a"
      },
      "execution_count": null,
      "outputs": [
        {
          "output_type": "stream",
          "name": "stdout",
          "text": [
            "Factorial of number 6 = 720\n"
          ]
        }
      ]
    },
    {
      "cell_type": "code",
      "source": [
        "# Function to calculate reverse of a number:\n",
        "n = int(input('Enter a number, you want to find reverse of: '))\n",
        "s = str(n)\n",
        "n = int(s[::-1])\n",
        "print(n)"
      ],
      "metadata": {
        "id": "FwYPqwqwEnZo",
        "colab": {
          "base_uri": "https://localhost:8080/"
        },
        "outputId": "a4c1ef74-4bd2-47ca-bce9-f78f37a746ef"
      },
      "execution_count": null,
      "outputs": [
        {
          "output_type": "stream",
          "name": "stdout",
          "text": [
            "Enter a number, you want to find reverse of: 12456677\n",
            "77665421\n"
          ]
        }
      ]
    },
    {
      "cell_type": "code",
      "source": [
        "# Function to calculate prime number or not:\n",
        "num = int(input('How many numbers you want to test: '))\n",
        "# for i in range(0, num):\n",
        "#   n = int(input('Enter the number to find whether its prime or not: '))\n",
        "#   if n == 1 or n == 0:\n",
        "#     print(f'{n} is not a prime.')\n",
        "#   elif n % n == 0 and n % 1 == n:\n",
        "#     print(f'{n} is a prime.')\n",
        "#   else:\n",
        "#     print(f'{n} is composite.' )"
      ],
      "metadata": {
        "id": "61el8N6qExDE"
      },
      "execution_count": null,
      "outputs": []
    },
    {
      "cell_type": "code",
      "source": [
        "# Function to accept a string and calculate the number of upper case letter and lower:\n",
        "s = input('Enter a string: ')\n",
        "U_count, L_count = 0, 0\n",
        "for i in s:\n",
        "  if i.isupper():\n",
        "    U_count = U_count + 1\n",
        "  elif i.islower():\n",
        "    L_count = L_count + 1\n",
        "print('Number of Upper case letters:', U_count)\n",
        "print('Number of Lower case letters:', L_count)"
      ],
      "metadata": {
        "id": "qgo4-PMkE0fw",
        "colab": {
          "base_uri": "https://localhost:8080/"
        },
        "outputId": "151af352-caab-4369-ecee-9811adca94b5"
      },
      "execution_count": null,
      "outputs": [
        {
          "output_type": "stream",
          "name": "stdout",
          "text": [
            "Enter a string: This Day is As BeaUtifuL as IT getS\n",
            "Number of Upper case letters: 9\n",
            "Number of Lower case letters: 19\n"
          ]
        }
      ]
    },
    {
      "cell_type": "markdown",
      "metadata": {
        "id": "N5hXV7TK6q7W"
      },
      "source": [
        "#14-07-2022, Thursday"
      ]
    },
    {
      "cell_type": "code",
      "execution_count": null,
      "metadata": {
        "colab": {
          "base_uri": "https://localhost:8080/"
        },
        "id": "Famy3IWm6vvI",
        "outputId": "2b5121fd-f27a-4aaa-fc6a-470caed48f13"
      },
      "outputs": [
        {
          "name": "stdout",
          "output_type": "stream",
          "text": [
            "Help on function printSuccess in module __main__:\n",
            "\n",
            "printSuccess()\n",
            "    This function is doing nothing, except printing a message.\n",
            "    That message is 'Hello'.\n",
            "\n"
          ]
        }
      ],
      "source": [
        "#docstring\n",
        "def printSuccess():\n",
        "  \"\"\"\n",
        "  This function is doing nothing, except printing a message.\n",
        "  That message is 'Hello'.\n",
        "\n",
        "  \"\"\"\n",
        "\n",
        "help(printSuccess) #help function"
      ]
    },
    {
      "cell_type": "code",
      "execution_count": null,
      "metadata": {
        "colab": {
          "base_uri": "https://localhost:8080/"
        },
        "id": "Wy4DQgNf_fvN",
        "outputId": "b99de638-2702-453d-be7b-92e07b8c4c71"
      },
      "outputs": [
        {
          "name": "stdout",
          "output_type": "stream",
          "text": [
            "value of total is: 30\n"
          ]
        }
      ],
      "source": [
        "'''\n",
        "Lambda function: Lambda Keyword is used to create small Anonymous function. \n",
        "These function are called anonymous because they are not declared as standard function.\n",
        "Lamda forms can take any number of arguments but return one value.\n",
        "They cannot contain commands or multiple expressions. \n",
        "syntax: lambda[arg1 [arg2,.....]]:expression.\n",
        "'''\n",
        "#function definition:\n",
        "sum = lambda arg1, arg2: arg1 + arg2\n",
        "\n",
        "#call sum function:\n",
        "print(\"value of total is:\", sum(10, 20))"
      ]
    },
    {
      "cell_type": "code",
      "execution_count": null,
      "metadata": {
        "colab": {
          "base_uri": "https://localhost:8080/"
        },
        "id": "cIv8eV4qzRcF",
        "outputId": "3e350467-6200-461e-ce89-4878ba2c3f0f"
      },
      "outputs": [
        {
          "output_type": "stream",
          "name": "stdout",
          "text": [
            "s: 4\n",
            "y: 10\n",
            "outer y: 10\n"
          ]
        }
      ],
      "source": [
        "y=10\n",
        "def inner():\n",
        "  s = 4\n",
        "  print(\"s:\", s)\n",
        "  print(\"y:\", y)\n",
        "inner()\n",
        "#print(s) will show error as out of scope of function\n",
        "print(\"outer y:\", y)"
      ]
    },
    {
      "cell_type": "code",
      "source": [
        "y=10\n",
        "def inner():\n",
        "  s = 4\n",
        "  global y\n",
        "  y = y + 1\n",
        "  #y=y+1 will show an error as cannot cahnge global var within function for this use of --global word\n",
        "  print(\"y:\", y)\n",
        "\n",
        "inner()\n",
        "#print(s) will show error as out of scope of function\n",
        "print(\"outer y:\", y)"
      ],
      "metadata": {
        "colab": {
          "base_uri": "https://localhost:8080/"
        },
        "id": "_vWpVwWC79Cn",
        "outputId": "ce294373-cff4-4600-f51e-7da8c4902374"
      },
      "execution_count": null,
      "outputs": [
        {
          "output_type": "stream",
          "name": "stdout",
          "text": [
            "y: 11\n",
            "outer y: 11\n"
          ]
        }
      ]
    },
    {
      "cell_type": "code",
      "source": [
        "y = 10 # global\n",
        "def outer(): # enclosed\n",
        "  z = 4 \n",
        "  print(\"outer function z: \", z)\n",
        "  def inner(): # local\n",
        "    s = 4\n",
        "    print(\"inner s =\", s)\n",
        "    print(\"y =\", y)\n",
        "  inner()\n",
        "outer()\n",
        "#print(s) will show error as out of scope of function \n",
        "print(\"global\", y)"
      ],
      "metadata": {
        "colab": {
          "base_uri": "https://localhost:8080/"
        },
        "id": "j7T5C8178TDy",
        "outputId": "d1c28b0f-f431-4167-c030-baea5fe0e704"
      },
      "execution_count": null,
      "outputs": [
        {
          "output_type": "stream",
          "name": "stdout",
          "text": [
            "outer function z:  4\n",
            "inner s = 4\n",
            "y = 10\n",
            "global 10\n"
          ]
        }
      ]
    },
    {
      "cell_type": "code",
      "source": [
        "import math as mt \n",
        "r = mt.sqrt(64) \n",
        "print(r)"
      ],
      "metadata": {
        "colab": {
          "base_uri": "https://localhost:8080/"
        },
        "id": "mjCXfX7p9BcI",
        "outputId": "5cb9d249-46b0-4486-ab9b-adfd2e1bff47"
      },
      "execution_count": null,
      "outputs": [
        {
          "output_type": "stream",
          "name": "stdout",
          "text": [
            "8.0\n"
          ]
        }
      ]
    },
    {
      "cell_type": "code",
      "source": [
        "# 2. Using from keyword \n",
        "from math import ceil \n",
        "ceil(6.6)"
      ],
      "metadata": {
        "colab": {
          "base_uri": "https://localhost:8080/"
        },
        "id": "xwg-_3689Wk3",
        "outputId": "7bec2803-ef88-4421-d6b4-2c6855275f69"
      },
      "execution_count": null,
      "outputs": [
        {
          "output_type": "execute_result",
          "data": {
            "text/plain": [
              "7"
            ]
          },
          "metadata": {},
          "execution_count": 11
        }
      ]
    },
    {
      "cell_type": "code",
      "source": [
        "# to import all the functions from your module, write * \n",
        "from math import *"
      ],
      "metadata": {
        "id": "zfMQ9aTF9Z4P"
      },
      "execution_count": null,
      "outputs": []
    },
    {
      "cell_type": "code",
      "source": [
        "import random\n",
        "# random function it gives a random number between 0 and 1\n",
        "random.random()\n"
      ],
      "metadata": {
        "colab": {
          "base_uri": "https://localhost:8080/"
        },
        "id": "-nFyPgu89lCn",
        "outputId": "9f8ca76c-cff7-4028-ae19-cca33e84e178"
      },
      "execution_count": null,
      "outputs": [
        {
          "output_type": "execute_result",
          "data": {
            "text/plain": [
              "0.1863449801368069"
            ]
          },
          "metadata": {},
          "execution_count": 14
        }
      ]
    },
    {
      "cell_type": "code",
      "source": [
        "# randint(a,b) it gives a random number between a and b\n",
        "random.randint(15,100)"
      ],
      "metadata": {
        "colab": {
          "base_uri": "https://localhost:8080/"
        },
        "id": "DoR1rxGr94bN",
        "outputId": "9ceef3c1-7197-4828-9d89-c97f5ad27651"
      },
      "execution_count": null,
      "outputs": [
        {
          "output_type": "execute_result",
          "data": {
            "text/plain": [
              "39"
            ]
          },
          "metadata": {},
          "execution_count": 22
        }
      ]
    },
    {
      "cell_type": "code",
      "source": [
        "#import time module \n",
        "from datetime import time \n",
        "a = time() \n",
        "print(\"a =\", a) \n",
        "b = time(9, 32, 52)\n",
        "print(\"hour\", b.hour)\n",
        "print(\"minute =\", b.minute)\n",
        "print(\"second = \", b.second)\n",
        "import time\n",
        "print(time.localtime (time.time()))\n",
        "import datetime\n",
        "print(datetime.datetime.now()) # print current date and time\n",
        "#import datetime\n",
        "print(datetime.date.today()) # print current date\n",
        "from datetime import date\n",
        "print(date.today())\n",
        "dd = date.today() \n",
        "print(\"year\", dd.year)\n",
        "print(\"year\", dd.month)\n",
        "print(\"year\", dd.day)"
      ],
      "metadata": {
        "colab": {
          "base_uri": "https://localhost:8080/"
        },
        "id": "_aD1Dz4k9_Bf",
        "outputId": "1ad83856-3307-464e-bf39-6af0b07b9769"
      },
      "execution_count": null,
      "outputs": [
        {
          "output_type": "stream",
          "name": "stdout",
          "text": [
            "a = 00:00:00\n",
            "hour 9\n",
            "minute = 32\n",
            "second =  52\n",
            "time.struct_time(tm_year=2022, tm_mon=7, tm_mday=15, tm_hour=8, tm_min=30, tm_sec=8, tm_wday=4, tm_yday=196, tm_isdst=0)\n",
            "2022-07-15 08:30:08.013324\n",
            "2022-07-15\n",
            "2022-07-15\n",
            "year 2022\n",
            "year 7\n",
            "year 15\n"
          ]
        }
      ]
    },
    {
      "cell_type": "markdown",
      "source": [
        "#15-07-2022, Friday"
      ],
      "metadata": {
        "id": "-glKhDNf_QaS"
      }
    },
    {
      "cell_type": "code",
      "source": [
        "a = 10\n",
        "b = a\n",
        "c = b\n",
        "print(a, id(a), '\\n', b, id(b), '\\n', c, id(c))"
      ],
      "metadata": {
        "id": "zk74Co5PgKV4",
        "colab": {
          "base_uri": "https://localhost:8080/"
        },
        "outputId": "d050fe32-1b2b-4d83-f6d0-0f7af2618659"
      },
      "execution_count": null,
      "outputs": [
        {
          "output_type": "stream",
          "name": "stdout",
          "text": [
            "10 11256352 \n",
            " 10 11256352 \n",
            " 10 11256352\n"
          ]
        }
      ]
    },
    {
      "cell_type": "markdown",
      "source": [
        "#18-07-2022, Monday"
      ],
      "metadata": {
        "id": "149Cxwnu9xj3"
      }
    },
    {
      "cell_type": "code",
      "source": [
        "import numpy as np\n",
        "nn1 = np.arange(24).reshape(4, 3, 2)\n",
        "print(nn1)"
      ],
      "metadata": {
        "colab": {
          "base_uri": "https://localhost:8080/"
        },
        "id": "cr30Rt0P9-dq",
        "outputId": "dd1b6269-fd6b-40be-fea0-df11b45dd1db"
      },
      "execution_count": null,
      "outputs": [
        {
          "output_type": "stream",
          "name": "stdout",
          "text": [
            "[[[ 0  1]\n",
            "  [ 2  3]\n",
            "  [ 4  5]]\n",
            "\n",
            " [[ 6  7]\n",
            "  [ 8  9]\n",
            "  [10 11]]\n",
            "\n",
            " [[12 13]\n",
            "  [14 15]\n",
            "  [16 17]]\n",
            "\n",
            " [[18 19]\n",
            "  [20 21]\n",
            "  [22 23]]]\n"
          ]
        }
      ]
    },
    {
      "cell_type": "code",
      "source": [
        "# Using universal function:\n",
        "\n",
        "n3 = np.add(nn1, nn2)\n",
        "print(n3)"
      ],
      "metadata": {
        "id": "_KiEVsmrPqG6"
      },
      "execution_count": null,
      "outputs": []
    },
    {
      "cell_type": "markdown",
      "source": [
        "#19-07-2022, Tuesday"
      ],
      "metadata": {
        "id": "C5Ucpz4tEGbR"
      }
    },
    {
      "cell_type": "code",
      "source": [
        "import numpy as np\n",
        "url = 'https://raw.githubusercontent.com/ahkhaider-10/Python/master/ClassExamples/PJ121/Wines/winequality-red.csv'\n",
        "\n",
        "wfile = np.genfromtxt(url, delimiter = ';', skip_header = 1)\n",
        "wfile"
      ],
      "metadata": {
        "colab": {
          "base_uri": "https://localhost:8080/"
        },
        "id": "02otyzyQE9Yf",
        "outputId": "2ef6abaa-272a-4157-81e3-126ae4dae8b2"
      },
      "execution_count": null,
      "outputs": [
        {
          "output_type": "execute_result",
          "data": {
            "text/plain": [
              "array([[ 7.4  ,  0.7  ,  0.   , ...,  0.56 ,  9.4  ,  5.   ],\n",
              "       [ 7.8  ,  0.88 ,  0.   , ...,  0.68 ,  9.8  ,  5.   ],\n",
              "       [ 7.8  ,  0.76 ,  0.04 , ...,  0.65 ,  9.8  ,  5.   ],\n",
              "       ...,\n",
              "       [ 6.3  ,  0.51 ,  0.13 , ...,  0.75 , 11.   ,  6.   ],\n",
              "       [ 5.9  ,  0.645,  0.12 , ...,  0.71 , 10.2  ,  5.   ],\n",
              "       [ 6.   ,  0.31 ,  0.47 , ...,  0.66 , 11.   ,  6.   ]])"
            ]
          },
          "metadata": {},
          "execution_count": 16
        }
      ]
    },
    {
      "cell_type": "code",
      "source": [
        "# wfile[2:7, 0:3]\n",
        "# wfile[2:7].max()\n",
        "wfile[2:7]"
      ],
      "metadata": {
        "colab": {
          "base_uri": "https://localhost:8080/"
        },
        "id": "9-ok5Z1DD0M9",
        "outputId": "4ab91cbb-cf63-427d-a736-18461dae40af"
      },
      "execution_count": null,
      "outputs": [
        {
          "output_type": "execute_result",
          "data": {
            "text/plain": [
              "array([[7.800e+00, 7.600e-01, 4.000e-02, 2.300e+00, 9.200e-02, 1.500e+01,\n",
              "        5.400e+01, 9.970e-01, 3.260e+00, 6.500e-01, 9.800e+00, 5.000e+00],\n",
              "       [1.120e+01, 2.800e-01, 5.600e-01, 1.900e+00, 7.500e-02, 1.700e+01,\n",
              "        6.000e+01, 9.980e-01, 3.160e+00, 5.800e-01, 9.800e+00, 6.000e+00],\n",
              "       [7.400e+00, 7.000e-01, 0.000e+00, 1.900e+00, 7.600e-02, 1.100e+01,\n",
              "        3.400e+01, 9.978e-01, 3.510e+00, 5.600e-01, 9.400e+00, 5.000e+00],\n",
              "       [7.400e+00, 6.600e-01, 0.000e+00, 1.800e+00, 7.500e-02, 1.300e+01,\n",
              "        4.000e+01, 9.978e-01, 3.510e+00, 5.600e-01, 9.400e+00, 5.000e+00],\n",
              "       [7.900e+00, 6.000e-01, 6.000e-02, 1.600e+00, 6.900e-02, 1.500e+01,\n",
              "        5.900e+01, 9.964e-01, 3.300e+00, 4.600e-01, 9.400e+00, 5.000e+00]])"
            ]
          },
          "metadata": {},
          "execution_count": 20
        }
      ]
    },
    {
      "cell_type": "markdown",
      "source": [
        "#20-07-2022, Wednesday\n"
      ],
      "metadata": {
        "id": "KYKyYQqyI-Xh"
      }
    },
    {
      "cell_type": "code",
      "source": [
        "# %timeit sum([1, 2, 3, 4, 5])\n",
        "# plt.hist(arr1)"
      ],
      "metadata": {
        "id": "zKBGsoZhJDF_"
      },
      "execution_count": null,
      "outputs": []
    },
    {
      "cell_type": "markdown",
      "source": [
        "#21-07-2022, Thursday"
      ],
      "metadata": {
        "id": "WWjSmQziHAPx"
      }
    },
    {
      "cell_type": "code",
      "source": [
        ""
      ],
      "metadata": {
        "id": "eodPMYTAHEi7"
      },
      "execution_count": null,
      "outputs": []
    }
  ],
  "metadata": {
    "colab": {
      "collapsed_sections": [
        "Lz7AcFSiH0zG",
        "hbGvZOIOHh9C",
        "mRWdZ65OBWbs",
        "e02tQMFDH-v7",
        "tc2wVOdayUJz",
        "tKYx9X-rhBzC",
        "xgtdTFAExB9i",
        "N5hXV7TK6q7W",
        "-glKhDNf_QaS",
        "149Cxwnu9xj3"
      ],
      "name": "DATA_SCIENCE_NIELIT.ipynb",
      "provenance": [],
      "authorship_tag": "ABX9TyMdp5+5XQcD63bjLCFZJ5XE",
      "include_colab_link": true
    },
    "kernelspec": {
      "display_name": "Python 3",
      "name": "python3"
    },
    "language_info": {
      "name": "python"
    }
  },
  "nbformat": 4,
  "nbformat_minor": 0
}